{
  "nbformat": 4,
  "nbformat_minor": 0,
  "metadata": {
    "colab": {
      "provenance": []
    },
    "kernelspec": {
      "name": "python3",
      "display_name": "Python 3"
    },
    "language_info": {
      "name": "python"
    }
  },
  "cells": [
    {
      "cell_type": "markdown",
      "source": [
        "#QUESTIONS"
      ],
      "metadata": {
        "id": "VvMzfVjoSIc9"
      }
    },
    {
      "cell_type": "markdown",
      "source": [
        "1.What is Object-Oriented Programming (OOP)?"
      ],
      "metadata": {
        "id": "5MnSILcHSN3O"
      }
    },
    {
      "cell_type": "markdown",
      "source": [
        "->Object-Oriented Programming (OOP) is a programming paradigm that organizes software design around objects rather than functions and logic"
      ],
      "metadata": {
        "id": "qNF4Fh4_SUZf"
      }
    },
    {
      "cell_type": "markdown",
      "source": [
        "2.What is a class in OOP?"
      ],
      "metadata": {
        "id": "lhAimE76JA_H"
      }
    },
    {
      "cell_type": "markdown",
      "source": [
        "-> a class is a blueprint or a template for creating objects. It defines the properties  and behaviors all objects."
      ],
      "metadata": {
        "id": "86tDDKB6JRGQ"
      }
    },
    {
      "cell_type": "markdown",
      "source": [
        "3.What is an object in OOP?\n"
      ],
      "metadata": {
        "id": "XwMVvlZiJdeC"
      }
    },
    {
      "cell_type": "markdown",
      "source": [
        "-> an object is a specific instance of a class"
      ],
      "metadata": {
        "id": "LMzCGDKkLtdu"
      }
    },
    {
      "cell_type": "markdown",
      "source": [
        "4.What is the difference between abstraction and encapsulation?"
      ],
      "metadata": {
        "id": "_-v7eZEvLxPq"
      }
    },
    {
      "cell_type": "markdown",
      "source": [
        "->Abstraction\n",
        "\n",
        "\n",
        "Abstraction focuses on what an object does, rather than how it does it.\n",
        "\n",
        "->Encapsulation\n",
        "\n",
        "Encapsulation focuses on how an object's data is accessed and modified."
      ],
      "metadata": {
        "id": "C-jIdWn7Mirr"
      }
    },
    {
      "cell_type": "markdown",
      "source": [
        "5.What are dunder methods in Python?"
      ],
      "metadata": {
        "id": "qh8Fu8UW9tEj"
      }
    },
    {
      "cell_type": "markdown",
      "source": [
        "->Dunder methods in Python are special methods with names that start and end with two underscores, like __init__ or __str__. The \"dunder\" comes from \"double underscore.\""
      ],
      "metadata": {
        "id": "luJasfDw9y6f"
      }
    },
    {
      "cell_type": "markdown",
      "source": [
        "6.Explain the concept of inheritance in OOP?"
      ],
      "metadata": {
        "id": "FQwNEsV1AfWu"
      }
    },
    {
      "cell_type": "markdown",
      "source": [
        "->Inheritance is a fundamental concept in object-oriented programming (OOP) that allows a new class  to inherit properties and behaviors from an existing class."
      ],
      "metadata": {
        "id": "5ydrzZNjAmFE"
      }
    },
    {
      "cell_type": "markdown",
      "source": [
        "7.What is polymorphism in OOP?"
      ],
      "metadata": {
        "id": "5mgPiIKxBnTY"
      }
    },
    {
      "cell_type": "markdown",
      "source": [
        "->Polymorphism in object-oriented programming (OOP) is the ability of an object to take on many forms."
      ],
      "metadata": {
        "id": "ZGu_pXQ2BsMU"
      }
    },
    {
      "cell_type": "markdown",
      "source": [
        "8.How is encapsulation achieved in Python?"
      ],
      "metadata": {
        "id": "Mq7QnQKTB7yN"
      }
    },
    {
      "cell_type": "markdown",
      "source": [
        "->Encapsulation is achieved in Python by using naming conventions to signify that a method or attribute is intended for internal use only."
      ],
      "metadata": {
        "id": "TuKDAOe_CBTV"
      }
    },
    {
      "cell_type": "markdown",
      "source": [
        "9.What is a constructor in Python?"
      ],
      "metadata": {
        "id": "bw6KDkE5CK4D"
      }
    },
    {
      "cell_type": "markdown",
      "source": [
        "->A constructor in Python is a special method used to initialize an object's state when it is created."
      ],
      "metadata": {
        "id": "9qxkFGTlCqcb"
      }
    },
    {
      "cell_type": "markdown",
      "source": [
        "10.What are class and static methods in Python?"
      ],
      "metadata": {
        "id": "o1roX2jnC-CQ"
      }
    },
    {
      "cell_type": "markdown",
      "source": [
        "->Class and static methods in Python are special types of methods that are defined within a class but behave differently from standard instance methods."
      ],
      "metadata": {
        "id": "P9p1dlHxDGWk"
      }
    },
    {
      "cell_type": "markdown",
      "source": [
        "11.What is method overloading in Python?"
      ],
      "metadata": {
        "id": "pJ3jikvZDH0l"
      }
    },
    {
      "cell_type": "markdown",
      "source": [
        "->Method overloading is the ability to define a method with the same name but with different numbers or types of parameters"
      ],
      "metadata": {
        "id": "6OHk8o5WDL83"
      }
    },
    {
      "cell_type": "markdown",
      "source": [
        "12.What is method overriding in OOP?"
      ],
      "metadata": {
        "id": "Gs1MblqpDQyf"
      }
    },
    {
      "cell_type": "markdown",
      "source": [
        "->Method overriding is an object-oriented programming concept where a child class provides a specific implementation for a method that is already defined in its parent class."
      ],
      "metadata": {
        "id": "ysFhEpJiDXsd"
      }
    },
    {
      "cell_type": "markdown",
      "source": [
        "13. What is a property decorator in Python?"
      ],
      "metadata": {
        "id": "NwuTBAZODrY9"
      }
    },
    {
      "cell_type": "markdown",
      "source": [
        "A property decorator  is a built-in Python decorator that provides a Pythonic way to use getters, setters, and deleters."
      ],
      "metadata": {
        "id": "mPYp8meODfMr"
      }
    },
    {
      "cell_type": "markdown",
      "source": [
        "14.Why is polymorphism important in OOP?"
      ],
      "metadata": {
        "id": "zKLrZY8FD3QQ"
      }
    },
    {
      "cell_type": "markdown",
      "source": [
        "->Polymorphism is important in OOP because it promotes code reusability, flexibility, and maintainability"
      ],
      "metadata": {
        "id": "bsxODZG6D41C"
      }
    },
    {
      "cell_type": "markdown",
      "source": [
        "15.What is an abstract class in Python?"
      ],
      "metadata": {
        "id": "jL0D4mEnEBY9"
      }
    },
    {
      "cell_type": "markdown",
      "source": [
        "->It's a way to define a common interface for a group of related classes, ensuring they all have a certain set of methods and attributes."
      ],
      "metadata": {
        "id": "WE_xH4SsEHPA"
      }
    },
    {
      "cell_type": "markdown",
      "source": [
        "17.What is the difference between a class variable and an instance variable?"
      ],
      "metadata": {
        "id": "gOZpmjeNEh3N"
      }
    },
    {
      "cell_type": "markdown",
      "source": [
        "->Class Variables\n",
        "\n",
        "A class variable is a variable that is shared by all instances of a class. It is defined directly inside the class but outside any method\n",
        "\n",
        "->Instance Variables\n",
        "\n",
        "An instance variable is a variable that is unique to each instance of a class."
      ],
      "metadata": {
        "id": "sUgKiWI6Eqq7"
      }
    },
    {
      "cell_type": "markdown",
      "source": [
        "18.What is multiple inheritance in Python?"
      ],
      "metadata": {
        "id": "WxK2qrykFB7J"
      }
    },
    {
      "cell_type": "markdown",
      "source": [
        "->Multiple inheritance is an object-oriented programming feature that allows a class to inherit from more than one parent class"
      ],
      "metadata": {
        "id": "0HAcSP2dFJJf"
      }
    },
    {
      "cell_type": "markdown",
      "source": [
        "19.Explain the purpose of ‘’__str__’ and ‘__repr__’ ‘ methods in Python?"
      ],
      "metadata": {
        "id": "kixvyWsOFPRl"
      }
    },
    {
      "cell_type": "markdown",
      "source": [
        "->The __str__ method is for creating a human-readable string representation of an object\n",
        "\n",
        "->The __repr__ method is for creating a string representation that is unambiguous and can be used for debugging and development"
      ],
      "metadata": {
        "id": "-EhvASF1FTXG"
      }
    },
    {
      "cell_type": "markdown",
      "source": [
        "20.What is the significance of the ‘super()’ function in Python?"
      ],
      "metadata": {
        "id": "g_g_DNVUFpeM"
      }
    },
    {
      "cell_type": "markdown",
      "source": [
        "->The super() function in Python is a built-in function that provides a way to call a method from the parent or ancestor class"
      ],
      "metadata": {
        "id": "KjnY8bhnHBfq"
      }
    },
    {
      "cell_type": "markdown",
      "source": [
        "21.What is the significance of the __del__ method in Python?"
      ],
      "metadata": {
        "id": "w_CuPoZLHJdO"
      }
    },
    {
      "cell_type": "markdown",
      "source": [
        "->The __del__ method, also known as the destructor, is a special method in a Python class that's called when an object is about to be destroyed or garbage collected."
      ],
      "metadata": {
        "id": "cTOaK8h4HN5c"
      }
    },
    {
      "cell_type": "markdown",
      "source": [
        "22.What is the difference between @staticmethod and @classmethod in Python?"
      ],
      "metadata": {
        "id": "997R-caSHWh9"
      }
    },
    {
      "cell_type": "markdown",
      "source": [
        "->A static method is a method that belongs to the class but doesn't have access to either the class itself (cls) or the instance of the class (self)\n",
        "\n",
        "->A class method is a method that is bound to the class, not to an instance. It's defined using the  decorator and takes the class itself as its first argument, conventionally named cls"
      ],
      "metadata": {
        "id": "G9-bpySIHZ2l"
      }
    },
    {
      "cell_type": "markdown",
      "source": [
        "24.What is method chaining in Python OOP?"
      ],
      "metadata": {
        "id": "NXFQMnFEJXjC"
      }
    },
    {
      "cell_type": "markdown",
      "source": [
        "->Method chaining is a programming technique that allows you to call multiple methods on an object in a single, sequential statement. It creates a fluid and highly readable style of code."
      ],
      "metadata": {
        "id": "rqtts8X3JidB"
      }
    },
    {
      "cell_type": "markdown",
      "source": [
        "25.What is the purpose of the __call__ method in Python?"
      ],
      "metadata": {
        "id": "5ifs-LgyJjy9"
      }
    },
    {
      "cell_type": "markdown",
      "source": [
        "->The __call__ method in Python is a special method that allows an object to be treated and called like a function."
      ],
      "metadata": {
        "id": "RcoEylHXJqCP"
      }
    },
    {
      "cell_type": "markdown",
      "source": [
        "#PRACTICLE QUESTIONS"
      ],
      "metadata": {
        "id": "9Wongip7JweI"
      }
    },
    {
      "cell_type": "markdown",
      "source": [
        "1.. Create a parent class Animal with a method speak() that prints a generic message. Create a child class Dog\n",
        "that overrides the speak() method to print \"Bark!\"?"
      ],
      "metadata": {
        "id": "DQIhmnvbJ0Rf"
      }
    },
    {
      "cell_type": "code",
      "source": [
        "class Animal:\n",
        "    def speak(self):\n",
        "        print(\"Generic animal sound\")\n",
        "class Dog(Animal):\n",
        "    def speak(self):\n",
        "        print(\"Bark!\")\n",
        "animal = Animal()\n",
        "animal.speak()\n",
        "dog = Dog()\n",
        "dog.speak()"
      ],
      "metadata": {
        "colab": {
          "base_uri": "https://localhost:8080/"
        },
        "id": "Gqg08-mvJ4N3",
        "outputId": "e13c7db0-91f6-48cf-d8fa-d4de1ef6b27c"
      },
      "execution_count": 1,
      "outputs": [
        {
          "output_type": "stream",
          "name": "stdout",
          "text": [
            "Generic animal sound\n",
            "Bark!\n"
          ]
        }
      ]
    },
    {
      "cell_type": "markdown",
      "source": [
        "2. Write a program to create an abstract class Shape with a method area(). Derive classes Circle and Rectangle\n",
        "from it and implement the area() method in both?"
      ],
      "metadata": {
        "id": "TfiVzctCKIIr"
      }
    },
    {
      "cell_type": "code",
      "source": [
        "from abc import ABC, abstractmethod\n",
        "import math\n",
        "class Shape(ABC):\n",
        "    @abstractmethod\n",
        "    def area(self):\n",
        "        pass\n",
        "class Circle(Shape):\n",
        "    def __init__(self, radius):\n",
        "        self.radius = radius\n",
        "    def area(self):\n",
        "        return math.pi * self.radius**2\n",
        "class Rectangle(Shape):\n",
        "    def __init__(self, width, height):\n",
        "        self.width = width\n",
        "        self.height = height\n",
        "    def area(self):\n",
        "        return self.width * self.height\n",
        "circle = Circle(5)\n",
        "print(f\"Area of circle: {circle.area()}\")\n",
        "\n",
        "rectangle = Rectangle(4, 6)\n",
        "print(f\"Area of rectangle: {rectangle.area()}\")"
      ],
      "metadata": {
        "colab": {
          "base_uri": "https://localhost:8080/"
        },
        "id": "zj01fDIdKMSx",
        "outputId": "44178553-6251-4b74-cb7c-589dd6d8ea7b"
      },
      "execution_count": 2,
      "outputs": [
        {
          "output_type": "stream",
          "name": "stdout",
          "text": [
            "Area of circle: 78.53981633974483\n",
            "Area of rectangle: 24\n"
          ]
        }
      ]
    },
    {
      "cell_type": "markdown",
      "source": [
        "3.. Implement a multi-level inheritance scenario where a class Vehicle has an attribute type. Derive a class Car\n",
        "and further derive a class ElectricCar that adds a battery attribute?"
      ],
      "metadata": {
        "id": "lag1xAajK1bt"
      }
    },
    {
      "cell_type": "code",
      "source": [
        "class Vehicle:\n",
        "    def __init__(self, vehicle_type):\n",
        "        self.type = vehicle_type\n",
        "    def display_type(self):\n",
        "        print(f\"Vehicle type: {self.type}\")\n",
        "class Car(Vehicle):\n",
        "    def __init__(self, vehicle_type, model):\n",
        "        super().__init__(vehicle_type)\n",
        "        self.model = model\n",
        "    def display_model(self):\n",
        "        print(f\"Car model: {self.model}\")\n",
        "class ElectricCar(Car):\n",
        "    def __init__(self, vehicle_type, model, battery_capacity):\n",
        "        super().__init__(vehicle_type, model)\n",
        "        self.battery_capacity = battery_capacity\n",
        "    def display_battery(self):\n",
        "        print(f\"Battery capacity: {self.battery_capacity} kWh\")\n",
        "vehicle = Vehicle(\"General\")\n",
        "vehicle.display_type()\n",
        "car = Car(\"Car\", \"Sedan\")\n",
        "car.display_type()\n",
        "car.display_model()\n",
        "electric_car = ElectricCar(\"Electric Car\", \"Model S\", 100)\n",
        "electric_car.display_type()\n",
        "electric_car.display_model()\n",
        "electric_car.display_battery()"
      ],
      "metadata": {
        "colab": {
          "base_uri": "https://localhost:8080/"
        },
        "id": "awIoMGucK6B2",
        "outputId": "c2d34626-e84d-49d3-8dca-8a70f9a1c54b"
      },
      "execution_count": 3,
      "outputs": [
        {
          "output_type": "stream",
          "name": "stdout",
          "text": [
            "Vehicle type: General\n",
            "Vehicle type: Car\n",
            "Car model: Sedan\n",
            "Vehicle type: Electric Car\n",
            "Car model: Model S\n",
            "Battery capacity: 100 kWh\n"
          ]
        }
      ]
    },
    {
      "cell_type": "markdown",
      "source": [
        "4. Demonstrate polymorphism by creating a base class Bird with a method fly(). Create two derived classes\n",
        "Sparrow and Penguin that override the fly() method.\n"
      ],
      "metadata": {
        "id": "BtUkCca4LTyO"
      }
    },
    {
      "cell_type": "code",
      "source": [
        "class Bird:\n",
        "    def fly(self):\n",
        "        print(\"Birds can fly.\")\n",
        "class Sparrow(Bird):\n",
        "    def fly(self):\n",
        "        print(\"Sparrows fly high.\")\n",
        "class Penguin(Bird):\n",
        "    def fly(self):\n",
        "        print(\"Penguins cannot fly.\")\n",
        "bird = Bird()\n",
        "bird.fly()\n",
        "sparrow = Sparrow()\n",
        "sparrow.fly()\n",
        "penguin = Penguin()\n",
        "penguin.fly()"
      ],
      "metadata": {
        "colab": {
          "base_uri": "https://localhost:8080/"
        },
        "id": "lDj-DArrLZgO",
        "outputId": "103af18e-0dec-42a1-dc76-78459ca3f37c"
      },
      "execution_count": 4,
      "outputs": [
        {
          "output_type": "stream",
          "name": "stdout",
          "text": [
            "Birds can fly.\n",
            "Sparrows fly high.\n",
            "Penguins cannot fly.\n"
          ]
        }
      ]
    },
    {
      "cell_type": "markdown",
      "source": [
        "5. Write a program to demonstrate encapsulation by creating a class BankAccount with private attributes\n",
        "balance and methods to deposit, withdraw, and check balance."
      ],
      "metadata": {
        "id": "pdjnDiFVLq5d"
      }
    },
    {
      "cell_type": "code",
      "source": [
        "class BankAccount:\n",
        "    def __init__(self, initial_balance=0):\n",
        "        self.__balance = initial_balance\n",
        "    def deposit(self, amount):\n",
        "        if amount > 0:\n",
        "            self.__balance += amount\n",
        "            print(f\"Deposited: ${amount}. New balance: ${self.__balance}\")\n",
        "        else:\n",
        "            print(\"Deposit amount must be positive.\")\n",
        "\n",
        "    def withdraw(self, amount):\n",
        "        if amount > 0:\n",
        "            if self.__balance >= amount:\n",
        "                self.__balance -= amount\n",
        "                print(f\"Withdrew: ${amount}. New balance: ${self.__balance}\")\n",
        "            else:\n",
        "                print(\"Insufficient funds.\")\n",
        "        else:\n",
        "            print(\"Withdrawal amount must be positive.\")\n",
        "\n",
        "    def get_balance(self):\n",
        "        return self.__balance\n",
        "account = BankAccount(100)\n",
        "account.deposit(50)\n",
        "account.withdraw(20)\n",
        "account.withdraw(200)\n",
        "print(f\"Current balance: ${account.get_balance()}\")\n"
      ],
      "metadata": {
        "colab": {
          "base_uri": "https://localhost:8080/"
        },
        "id": "vnXv0dEtLund",
        "outputId": "fc89bef1-7f64-4e20-b23b-ad0509d1fcb2"
      },
      "execution_count": 5,
      "outputs": [
        {
          "output_type": "stream",
          "name": "stdout",
          "text": [
            "Deposited: $50. New balance: $150\n",
            "Withdrew: $20. New balance: $130\n",
            "Insufficient funds.\n",
            "Current balance: $130\n"
          ]
        }
      ]
    },
    {
      "cell_type": "markdown",
      "source": [
        "6. Demonstrate runtime polymorphism using a method play() in a base class Instrument. Derive classes Guitar\n",
        "and Piano that implement their own version of play()."
      ],
      "metadata": {
        "id": "PdNRVzyBMXRA"
      }
    },
    {
      "cell_type": "code",
      "source": [
        "class Instrument:\n",
        "    def play(self):\n",
        "        print(\"Playing an instrument\")\n",
        "class Guitar(Instrument):\n",
        "    def play(self):\n",
        "        print(\"Playing  guitar\")\n",
        "class Piano(Instrument):\n",
        "    def play(self):\n",
        "        print(\"Playing  piano\")\n",
        "def make_instrument_play(instrument):\n",
        "    instrument.play()\n",
        "instrument = Instrument()\n",
        "guitar = Guitar()\n",
        "piano = Piano()\n",
        "make_instrument_play(instrument)\n",
        "make_instrument_play(guitar)\n",
        "make_instrument_play(piano)"
      ],
      "metadata": {
        "colab": {
          "base_uri": "https://localhost:8080/"
        },
        "id": "UQVajjlVMZ4n",
        "outputId": "686c42ef-1ad9-461d-f7b3-58d9624713f0"
      },
      "execution_count": 8,
      "outputs": [
        {
          "output_type": "stream",
          "name": "stdout",
          "text": [
            "Playing an instrument\n",
            "Playing  guitar\n",
            "Playing  piano\n"
          ]
        }
      ]
    },
    {
      "cell_type": "markdown",
      "source": [
        "7. Create a class MathOperations with a class method add_numbers() to add two numbers and a static\n",
        "method subtract_numbers() to subtract two numbers."
      ],
      "metadata": {
        "id": "UGJPqWB9MyLR"
      }
    },
    {
      "cell_type": "code",
      "source": [
        "class MathOperations:\n",
        "    @classmethod\n",
        "    def add_numbers(cls, x, y):\n",
        "        \"\"\"Class method to add two numbers.\"\"\"\n",
        "        return x + y\n",
        "    @staticmethod\n",
        "    def subtract_numbers(x, y):\n",
        "        \"\"\"Static method to subtract two numbers.\"\"\"\n",
        "        return x - y\n",
        "sum_result = MathOperations.add_numbers(10, 5)\n",
        "print(f\"Sum: {sum_result}\")\n",
        "difference_result = MathOperations.subtract_numbers(10, 5)\n",
        "print(f\"Difference: {difference_result}\")"
      ],
      "metadata": {
        "colab": {
          "base_uri": "https://localhost:8080/"
        },
        "id": "ifGQgVPkM4Ve",
        "outputId": "e5a60483-fd0e-4efd-9a11-7910790dc76e"
      },
      "execution_count": 9,
      "outputs": [
        {
          "output_type": "stream",
          "name": "stdout",
          "text": [
            "Sum: 15\n",
            "Difference: 5\n"
          ]
        }
      ]
    },
    {
      "cell_type": "markdown",
      "source": [
        "8. Implement a class Person with a class method to count the total number of persons created."
      ],
      "metadata": {
        "id": "5SgjTozLM_5b"
      }
    },
    {
      "cell_type": "code",
      "source": [
        "class Person:\n",
        "    count = 0\n",
        "    def __init__(self, name):\n",
        "        self.name = name\n",
        "        Person.count += 1\n",
        "    @classmethod\n",
        "    def get_person_count(cls):\n",
        "        \"\"\"Class method to get the total number of persons created.\"\"\"\n",
        "        return cls.count\n",
        "person1 = Person(\"Alice\")\n",
        "person2 = Person(\"Bob\")\n",
        "person3 = Person(\"Charlie\")\n",
        "print(f\"Total number of persons created: {Person.get_person_count()}\")"
      ],
      "metadata": {
        "colab": {
          "base_uri": "https://localhost:8080/"
        },
        "id": "LU4KWnMgNDMw",
        "outputId": "e2749611-0f70-4f16-cf16-e40ae27772b9"
      },
      "execution_count": 10,
      "outputs": [
        {
          "output_type": "stream",
          "name": "stdout",
          "text": [
            "Total number of persons created: 3\n"
          ]
        }
      ]
    },
    {
      "cell_type": "markdown",
      "source": [
        "9.Write a class Fraction with attributes numerator and denominator. Override the str method to display the\n",
        "fraction as \"numerator/denominator\"."
      ],
      "metadata": {
        "id": "UjVBk5X0NiXJ"
      }
    },
    {
      "cell_type": "code",
      "source": [
        "class Fraction:\n",
        "    def __init__(self, numerator, denominator):\n",
        "        self.numerator = numerator\n",
        "        self.denominator = denominator\n",
        "    def __str__(self):\n",
        "        \"\"\"Override the __str__ method to display the fraction.\"\"\"\n",
        "        return f\"{self.numerator}/{self.denominator}\"\n",
        "fraction1 = Fraction(3, 4)\n",
        "print(fraction1)\n",
        "fraction2 = Fraction(1, 2)\n",
        "print(fraction2)"
      ],
      "metadata": {
        "colab": {
          "base_uri": "https://localhost:8080/"
        },
        "id": "muvHIEi8NlGU",
        "outputId": "69b30403-8435-40b2-b2b5-cd779e20a03c"
      },
      "execution_count": 11,
      "outputs": [
        {
          "output_type": "stream",
          "name": "stdout",
          "text": [
            "3/4\n",
            "1/2\n"
          ]
        }
      ]
    },
    {
      "cell_type": "markdown",
      "source": [
        "10. Demonstrate operator overloading by creating a class Vector and overriding the add method to add two\n",
        "vectors."
      ],
      "metadata": {
        "id": "UU_SoDWFNr6E"
      }
    },
    {
      "cell_type": "code",
      "source": [
        "class Vector:\n",
        "    def __init__(self, x, y):\n",
        "        self.x = x\n",
        "        self.y = y\n",
        "    def __add__(self, other):\n",
        "        \"\"\"Override the + operator to add two Vector objects.\"\"\"\n",
        "        if isinstance(other, Vector):\n",
        "            return Vector(self.x + other.x, self.y + other.y)\n",
        "        else:\n",
        "            raise TypeError(\"Unsupported operand type for +\")\n",
        "    def __str__(self):\n",
        "        \"\"\"String representation for easy printing.\"\"\"\n",
        "        return f\"Vector({self.x}, {self.y})\"\n",
        "vector1 = Vector(2, 3)\n",
        "vector2 = Vector(5, 1)\n",
        "vector3 = vector1 + vector2\n",
        "print(vector3)"
      ],
      "metadata": {
        "colab": {
          "base_uri": "https://localhost:8080/"
        },
        "id": "uEC1erQKNwkz",
        "outputId": "38dae50e-cdbe-45d3-be1c-6fc3b32549ae"
      },
      "execution_count": 12,
      "outputs": [
        {
          "output_type": "stream",
          "name": "stdout",
          "text": [
            "Vector(7, 4)\n"
          ]
        }
      ]
    },
    {
      "cell_type": "markdown",
      "source": [
        "11.Create a class Person with attributes name and age. Add a method greet() that prints \"Hello, my name is\n",
        "{name} and I am {age} years old.\""
      ],
      "metadata": {
        "id": "xtpgRycRN6mB"
      }
    },
    {
      "cell_type": "code",
      "source": [
        "class Person:\n",
        "    def __init__(self, name, age):\n",
        "        self.name = name\n",
        "        self.age = age\n",
        "    def greet(self):\n",
        "        print(f\"Hello, my name is {self.name} and I am {self.age} years old.\")\n",
        "person1 = Person(\"Alice\", 30)\n",
        "person1.greet()\n",
        "person2 = Person(\"Bob\", 25)\n",
        "person2.greet()"
      ],
      "metadata": {
        "colab": {
          "base_uri": "https://localhost:8080/"
        },
        "id": "BpQdNAtFN-rx",
        "outputId": "fd8d1f79-8abe-4c29-e56d-b19aab2fef6e"
      },
      "execution_count": 13,
      "outputs": [
        {
          "output_type": "stream",
          "name": "stdout",
          "text": [
            "Hello, my name is Alice and I am 30 years old.\n",
            "Hello, my name is Bob and I am 25 years old.\n"
          ]
        }
      ]
    },
    {
      "cell_type": "markdown",
      "source": [
        "12. Implement a class Student with attributes name and grades. Create a method average_grade() to compute\n",
        "the average of the grades."
      ],
      "metadata": {
        "id": "wTgTgwkpOSke"
      }
    },
    {
      "cell_type": "code",
      "source": [
        "class Student:\n",
        "    def __init__(self, name, grades):\n",
        "        self.name = name\n",
        "        self.grades = grades\n",
        "    def average_grade(self):\n",
        "        \"\"\"Computes the average of the student's grades.\"\"\"\n",
        "        if not self.grades:\n",
        "            return 0\n",
        "        return sum(self.grades) / len(self.grades)\n",
        "student1 = Student(\"Alice\", [85, 90, 78, 92])\n",
        "print(f\"{student1.name}'s average grade: {student1.average_grade()}\")\n",
        "student2 = Student(\"Bob\", [70, 75, 80])\n",
        "print(f\"{student2.name}'s average grade: {student2.average_grade()}\")\n",
        "student3 = Student(\"Charlie\", [])\n",
        "print(f\"{student3.name}'s average grade: {student3.average_grade()}\")"
      ],
      "metadata": {
        "colab": {
          "base_uri": "https://localhost:8080/"
        },
        "id": "92Le1-BkOVCX",
        "outputId": "6aa96266-d5ea-44ea-cf01-c190ac8cf2f6"
      },
      "execution_count": 14,
      "outputs": [
        {
          "output_type": "stream",
          "name": "stdout",
          "text": [
            "Alice's average grade: 86.25\n",
            "Bob's average grade: 75.0\n",
            "Charlie's average grade: 0\n"
          ]
        }
      ]
    },
    {
      "cell_type": "markdown",
      "source": [
        "13. Create a class Rectangle with methods set_dimensions() to set the dimensions and area() to calculate the\n",
        "area."
      ],
      "metadata": {
        "id": "v99OzVKWOcvq"
      }
    },
    {
      "cell_type": "code",
      "source": [
        "class Rectangle:\n",
        "    def __init__(self):\n",
        "        self.width = 0\n",
        "        self.height = 0\n",
        "    def set_dimensions(self, width, height):\n",
        "        \"\"\"Sets the width and height of the rectangle.\"\"\"\n",
        "        if width >= 0 and height >= 0:\n",
        "            self.width = width\n",
        "            self.height = height\n",
        "        else:\n",
        "            print(\"Dimensions must be non-negative.\")\n",
        "    def area(self):\n",
        "        \"\"\"Calculates the area of the rectangle.\"\"\"\n",
        "        return self.width * self.height\n",
        "rectangle = Rectangle()\n",
        "rectangle.set_dimensions(5, 10)\n",
        "print(f\"Area of rectangle: {rectangle.area()}\")\n",
        "rectangle.set_dimensions(7, 3)\n",
        "print(f\"Area of rectangle: {rectangle.area()}\")\n",
        "rectangle.set_dimensions(-2, 5)\n",
        "print(f\"Area of rectangle: {rectangle.area()}\")"
      ],
      "metadata": {
        "colab": {
          "base_uri": "https://localhost:8080/"
        },
        "id": "kk-leX71OgBN",
        "outputId": "e6252530-92e4-42f0-ce13-fdd5070f61fa"
      },
      "execution_count": 15,
      "outputs": [
        {
          "output_type": "stream",
          "name": "stdout",
          "text": [
            "Area of rectangle: 50\n",
            "Area of rectangle: 21\n",
            "Dimensions must be non-negative.\n",
            "Area of rectangle: 21\n"
          ]
        }
      ]
    },
    {
      "cell_type": "markdown",
      "source": [
        "14.. Create a class Employee with a method calculate_salary() that computes the salary based on hours worked\n",
        "and hourly rate. Create a derived class Manager that adds a bonus to the salary"
      ],
      "metadata": {
        "id": "ypi4eWQhO50C"
      }
    },
    {
      "cell_type": "code",
      "source": [
        "class Employee:\n",
        "    def __init__(self, hours_worked, hourly_rate):\n",
        "        self.hours_worked = hours_worked\n",
        "        self.hourly_rate = hourly_rate\n",
        "    def calculate_salary(self):\n",
        "        \"\"\"Computes the salary based on hours worked and hourly rate.\"\"\"\n",
        "        return self.hours_worked * self.hourly_rate\n",
        "class Manager(Employee):\n",
        "    def __init__(self, hours_worked, hourly_rate, bonus):\n",
        "        super().__init__(hours_worked, hourly_rate)\n",
        "        self.bonus = bonus\n",
        "    def calculate_salary(self):\n",
        "        \"\"\"Computes the salary including the bonus.\"\"\"\n",
        "        base_salary = super().calculate_salary()\n",
        "        return base_salary + self.bonus\n",
        "employee = Employee(40, 15)\n",
        "print(f\"Employee salary: ${employee.calculate_salary()}\")\n",
        "manager = Manager(40, 20, 500)\n",
        "print(f\"Manager salary: ${manager.calculate_salary()}\")"
      ],
      "metadata": {
        "colab": {
          "base_uri": "https://localhost:8080/"
        },
        "id": "d36EjjnjO-Du",
        "outputId": "ad4f829c-6ab5-43da-a0b6-7de721f3e7ca"
      },
      "execution_count": 17,
      "outputs": [
        {
          "output_type": "stream",
          "name": "stdout",
          "text": [
            "Employee salary: $600\n",
            "Manager salary: $1300\n"
          ]
        }
      ]
    },
    {
      "cell_type": "markdown",
      "source": [
        "15. Create a class Product with attributes name, price, and quantity. Implement a method total_price() that\n",
        "calculates the total price of the product."
      ],
      "metadata": {
        "id": "GHTqACYBPdjs"
      }
    },
    {
      "cell_type": "code",
      "source": [
        "class Product:\n",
        "    def __init__(self, name, price, quantity):\n",
        "        self.name = name\n",
        "        self.price = price\n",
        "        self.quantity = quantity\n",
        "    def total_price(self):\n",
        "        \"\"\"Calculates the total price of the product.\"\"\"\n",
        "        return self.price * self.quantity\n",
        "product1 = Product(\"Laptop\", 1200, 2)\n",
        "print(f\"Total price of {product1.name}: ${product1.total_price()}\")\n",
        "product2 = Product(\"Mouse\", 25, 10)\n",
        "print(f\"Total price of {product2.name}: ${product2.total_price()}\")"
      ],
      "metadata": {
        "colab": {
          "base_uri": "https://localhost:8080/"
        },
        "id": "yWJvwz_MPhZZ",
        "outputId": "8cb264c0-2a67-47a7-e9cb-6bc180f22333"
      },
      "execution_count": 18,
      "outputs": [
        {
          "output_type": "stream",
          "name": "stdout",
          "text": [
            "Total price of Laptop: $2400\n",
            "Total price of Mouse: $250\n"
          ]
        }
      ]
    },
    {
      "cell_type": "markdown",
      "source": [
        "16. Create a class Product with attributes name, price, and quantity. Implement a method total_price() that\n",
        "calculates the total price of the product."
      ],
      "metadata": {
        "id": "aCZusIddPprr"
      }
    },
    {
      "cell_type": "code",
      "source": [
        "class Product:\n",
        "    def __init__(self, name, price, quantity):\n",
        "        self.name = name\n",
        "        self.price = price\n",
        "        self.quantity = quantity\n",
        "    def total_price(self):\n",
        "        \"\"\"Calculates the total price of the product.\"\"\"\n",
        "        return self.price * self.quantity\n",
        "product1 = Product(\"Laptop\", 1200, 2)\n",
        "print(f\"Total price of {product1.name}: ${product1.total_price()}\")\n",
        "product2 = Product(\"Mouse\", 25, 10)\n",
        "print(f\"Total price of {product2.name}: ${product2.total_price()}\")"
      ],
      "metadata": {
        "colab": {
          "base_uri": "https://localhost:8080/"
        },
        "id": "6PqaS5fNPtwH",
        "outputId": "ad70e019-e319-4fad-ae83-42c4f40d07fa"
      },
      "execution_count": 19,
      "outputs": [
        {
          "output_type": "stream",
          "name": "stdout",
          "text": [
            "Total price of Laptop: $2400\n",
            "Total price of Mouse: $250\n"
          ]
        }
      ]
    },
    {
      "cell_type": "markdown",
      "source": [
        "17. Create a class Book with attributes title, author, and year_published. Add a method get_book_info() that\n",
        "returns a formatted string with the book's details."
      ],
      "metadata": {
        "id": "3nYoiK5OP0lV"
      }
    },
    {
      "cell_type": "code",
      "source": [
        "class Book:\n",
        "    def __init__(self, title, author, year_published):\n",
        "        self.title = title\n",
        "        self.author = author\n",
        "        self.year_published = year_published\n",
        "    def get_book_info(self):\n",
        "        \"\"\"Returns a formatted string with the book's details.\"\"\"\n",
        "        return f\"'{self.title}' by {self.author}, published in {self.year_published}\"\n",
        "book1 = Book(\"The Hitchhiker's Guide to the Galaxy\", \"Douglas Adams\", 1979)\n",
        "print(book1.get_book_info())\n",
        "book2 = Book(\"Pride and Prejudice\", \"Jane Austen\", 1813)\n",
        "print(book2.get_book_info())"
      ],
      "metadata": {
        "colab": {
          "base_uri": "https://localhost:8080/"
        },
        "id": "cq1x6x2_P3lI",
        "outputId": "624ad872-5243-46d0-d7ed-b4096d60f477"
      },
      "execution_count": 20,
      "outputs": [
        {
          "output_type": "stream",
          "name": "stdout",
          "text": [
            "'The Hitchhiker's Guide to the Galaxy' by Douglas Adams, published in 1979\n",
            "'Pride and Prejudice' by Jane Austen, published in 1813\n"
          ]
        }
      ]
    },
    {
      "cell_type": "markdown",
      "source": [
        "18.Create a class House with attributes address and price. Create a derived class Mansion that adds an\n",
        "attribute number_of_rooms."
      ],
      "metadata": {
        "id": "sk6dW5-LP_E4"
      }
    },
    {
      "cell_type": "code",
      "source": [
        "class House:\n",
        "    def __init__(self, address, price):\n",
        "        self.address = address\n",
        "        self.price = price\n",
        "class Mansion(House):\n",
        "    def __init__(self, address, price, number_of_rooms):\n",
        "        super().__init__(address, price)\n",
        "        self.number_of_rooms = number_of_rooms\n",
        "house = House(\"123 Main St\", 250000)\n",
        "print(f\"House address: {house.address}, price: ${house.price}\")\n",
        "mansion = Mansion(\"456 Oak Ave\", 1500000, 20)\n",
        "print(f\"Mansion address: {mansion.address}, price: ${mansion.price}, number of rooms: {mansion.number_of_rooms}\")"
      ],
      "metadata": {
        "colab": {
          "base_uri": "https://localhost:8080/"
        },
        "id": "YZUkFgYXQBzp",
        "outputId": "e0395f34-d042-45a4-c262-db9e772ac4c2"
      },
      "execution_count": 21,
      "outputs": [
        {
          "output_type": "stream",
          "name": "stdout",
          "text": [
            "House address: 123 Main St, price: $250000\n",
            "Mansion address: 456 Oak Ave, price: $1500000, number of rooms: 20\n"
          ]
        }
      ]
    }
  ]
}